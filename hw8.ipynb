{
 "cells": [
  {
   "cell_type": "markdown",
   "metadata": {},
   "source": [
    "# Audio Decomposition"
   ]
  },
  {
   "cell_type": "markdown",
   "metadata": {},
   "source": [
    "In this homework we will explore NMF-based audio decomposition.\n",
    "\n",
    "We are getting close to the final project, so I will be providing very little hand holding in this assignment.  I will simply give you broad tasks to accomplish without providing decomposed functions or answers.  It is up to you to verify that your code is working!\n",
    "\n",
    "Please note that part of your grade will be on the readability and decomposition of your code, so make sure your code is clean and organized.  Part of your grade will also be on the clarity of your writing.  You should explain your thought process clearly and support your claims with appropriate plots."
   ]
  },
  {
   "cell_type": "markdown",
   "metadata": {},
   "source": [
    "Team member #1: Rafael Burger\n",
    "\n",
    "Hours spent on hw: ____________\n",
    "\n",
    "Team member #2: Bob Zeng\n",
    "\n",
    "Hours spent on hw: ____________"
   ]
  },
  {
   "cell_type": "code",
   "execution_count": 1,
   "metadata": {},
   "outputs": [],
   "source": [
    "%matplotlib inline"
   ]
  },
  {
   "cell_type": "code",
   "execution_count": 16,
   "metadata": {},
   "outputs": [],
   "source": [
    "import numpy as np\n",
    "import librosa as lb\n",
    "import matplotlib.pyplot as plt\n",
    "import IPython.display as ipd\n",
    "import scipy.io as sio\n",
    "import scipy.signal as spsig"
   ]
  },
  {
   "cell_type": "markdown",
   "metadata": {},
   "source": [
    "### NMF (30 points)"
   ]
  },
  {
   "cell_type": "markdown",
   "metadata": {},
   "source": [
    "In this section you will implement the NMF algorithm.  You should do the following:\n",
    "- Calculate the STFT of the given audio file ('xylophone.mp3').\n",
    "- Implement the NMF algorithm as described in class.\n",
    "- Describe a suitable stopping criterion and justify your selection with logic and/or experimental plots.\n",
    "- Run NMF on the magnitude STFT\n",
    "- Visualize the estimated template and activation matrices.  Comment on the results."
   ]
  },
  {
   "cell_type": "markdown",
   "metadata": {},
   "source": [
    "### 1. Calculate STFT \n",
    "We will start by calculating the STFT of the given audio file. "
   ]
  },
  {
   "cell_type": "code",
   "execution_count": 26,
   "metadata": {},
   "outputs": [
    {
     "name": "stdout",
     "output_type": "stream",
     "text": [
      "513 469\n"
     ]
    },
    {
     "data": {
      "image/png": "[encoded data removed]",
      "text/plain": [
       "<Figure size 640x480 with 1 Axes>"
      ]
     },
     "metadata": {},
     "output_type": "display_data"
    }
   ],
   "source": [
    "audio_file = 'xylophone.mp3'                                    # specify audio file\n",
    "x, fs = lb.core.load(audio_file, sr = 22050)                    # unpack data from audio file\n",
    "\n",
    "win_size = 1024                                                 # specify window size\n",
    "hop_size = int(win_size / 2)                                    # specify hop size\n",
    "win = spsig.windows.hann(M = win_size)                          # construct hanning window for STFT\n",
    "SFT = spsig.ShortTimeFFT(win = win, hop = hop_size, fs = fs)    # initialize STFT object with specified parameters\n",
    "\n",
    "S = SFT.stft(x)                                                 # compute STFT of x \n",
    "\n",
    "plt.imshow(np.abs(S))\n",
    "plt.show()"
   ]
  },
  {
   "cell_type": "markdown",
   "metadata": {},
   "source": [
    "### 2. Implement Non-negative Matrix Factorization\n",
    "Now that we've computed the STFT for the given audio file, we can begin performing NMF. We'll start by initializing the W and H matrices. To do this, we need to think about what these matrices represent and therefore, what their dimensions should be. W is the \"template matrix\", so it should have a column for every template we are using to describe the given audio signal. H, the activation matrix, will have a row for each of these templates. We can determine the final two dimensions because we know that the product WH must have dimensions KxM (the dimensions of the STFT). \n",
    "\n",
    "Therefore, we have should initialize W and H with the following dimensions: \n",
    "\n",
    "W: K x R = 513 x 9\n",
    "\n",
    "H: R x M = 9 x 469\n",
    "\n",
    "Note that we have chosen R = 9 to represent 9 templates (one for each of the eight xylophone keys' tone and one for the percussive start to each key)\n",
    "\n",
    "In this section, we will not include prior knowledge for the initialization for W and H, so we will initialize all entries to a non-negative, non-zero constant. "
   ]
  },
  {
   "cell_type": "code",
   "execution_count": 3,
   "metadata": {},
   "outputs": [],
   "source": [
    "### Allocate W(0), H(0) with the desired dimensions\n",
    "\n",
    "K,M = S.shape               # define matrix dimensions\n",
    "R = 9\n",
    "init_val = 0.5\n",
    "\n",
    "W = np.zeros((K,R)) * init_val\n",
    "H = np.zeros((R,M)) * init_val"
   ]
  },
  {
   "cell_type": "code",
   "execution_count": null,
   "metadata": {},
   "outputs": [],
   "source": [
    "### Implement NMF\n",
    "\n",
    "def updateW(V, W, H):\n",
    "    H_1 = H * (W.T @ V) / (W.T @ W @ H)\n",
    "\n",
    "def updateH(V, W, H):\n",
    "    W_1 = W * (V @ H.T) / (W @ H @ H.T)\n",
    "    return W_1\n",
    "\n",
    "def NMF(V, W, H, num_iter):\n",
    "    for i in range(num_iter):\n",
    "        H = updateH(V, W, H)\n",
    "        W = updateW(V, W, H)\n",
    "    return (H, W)"
   ]
  },
  {
   "cell_type": "markdown",
   "metadata": {},
   "source": [
    "### Reconstruction (15 points)"
   ]
  },
  {
   "cell_type": "markdown",
   "metadata": {},
   "source": [
    "In this section you will reconstruct the audio for the estimated left and right hand tracks.  You should do the following:\n",
    "- Implement the simple approach described in class\n",
    "- Implement the soft masking approach described in class\n",
    "- Listen to the results of both reconstruction methods.  Comment."
   ]
  },
  {
   "cell_type": "code",
   "execution_count": null,
   "metadata": {},
   "outputs": [],
   "source": []
  },
  {
   "cell_type": "markdown",
   "metadata": {},
   "source": [
    "### Initializing templates (15 points)"
   ]
  },
  {
   "cell_type": "markdown",
   "metadata": {},
   "source": [
    "In this section you will initialize the templates to incorporate prior knowledge.  You should do the following:\n",
    "- Create a function that initializes a template matrix given a set of midi note numbers.  The templates should have random positive values around harmonic frequencies (+/- half a semitone), and zeros elsewhere.\n",
    "- Visualize the initialized template matrix using the notes {C6, D6, E6, F6, G6, A6, B6, C7}.\n",
    "- Run NMF with the initialized template matrix\n",
    "- Visualize the resulting template and activation matrices.  Comment.\n",
    "- Sonify the left and right hand tracks.  Comment."
   ]
  },
  {
   "cell_type": "code",
   "execution_count": null,
   "metadata": {},
   "outputs": [],
   "source": [
    "### Define Functions to help with W(0) initialization\n",
    "\n",
    "# define helper function to convert frequency to corresponding frequency bin\n",
    "def getKIndex(f, N, fs):\n",
    "    return int(f * N/ fs)\n",
    "\n",
    "# define function to create column of W(0) for a given note frequency\n",
    "def calcTemplate(f0, K, N = 1024, f_margin = 20, fs = 22050):\n",
    "\n",
    "    init_val = 0.1 # initial value to populate nonzero entries with\n",
    "\n",
    "    if f0 == 0: # percussive template case\n",
    "\n",
    "        template = np.ones(K).reshape(K,1) * init_val\n",
    "\n",
    "    else: # note template case   \n",
    "\n",
    "        template = np.zeros(K).reshape(K,1)\n",
    "\n",
    "        harmonic_num = 1\n",
    "        f_i = f0\n",
    "        f_low = f_i- harmonic_num * f_margin # create high and low boundaries to set nonzero to account for note tuning inaccuracies\n",
    "        f_high = f_i+ harmonic_num * f_margin\n",
    "        k_low = getKIndex(f_low, N=N, fs = fs)  # compute the STFT frequency bin indices corresponding to the low and high frequency limits\n",
    "        k_high = getKIndex(f_high, N=N, fs = fs)\n",
    "\n",
    "        while k_low < K:    # as long as k_low in range, add the next harmonic \n",
    "\n",
    "            if k_low < 0: # account for case where k_low out of range but k_high in range\n",
    "                k_low = 0\n",
    "\n",
    "            if k_high >= K: # account for case where k_low is in range and k_high is out of range\n",
    "                k_high = K-1\n",
    "\n",
    "            template[k_low:k_high] = init_val # assign initialization value to the frequency bins surrounding the current harmonic\n",
    "\n",
    "            harmonic_num = harmonic_num + 1             # increment harmonic counter\n",
    "            f_i = harmonic_num * f0                     # compute frequency of next harmonic\n",
    "            f_low = f_i - harmonic_num * f_margin       # compute high and low error limits for new harmonic\n",
    "            f_high = f_i - harmonic_num * f_margin\n",
    "            k_low = getKIndex(f_low, N=N, fs = fs)      # compute corresponding STFT frequency bin indices\n",
    "            k_high = getKIndex(f_high, N=N, fs = fs)\n",
    "        \n",
    "    return template"
   ]
  },
  {
   "cell_type": "markdown",
   "metadata": {},
   "source": [
    "### Initializing Activations (10 points)"
   ]
  },
  {
   "cell_type": "markdown",
   "metadata": {},
   "source": [
    "In this section you will initialize the activations to incorporate prior knowledge.  You may assume that you have already aligned the score and the audio, and have predicted the following note events at the following times.  You should do the following:\n",
    "- Create a function that initializes an activation matrix given the note event information.  The entries should have random positive values around the note onsets, and zeros elsewhere.  You may assume a fixed note duration of 1 sec.\n",
    "- Visualize the initialized activation matrix\n",
    "- Run NMF with the initialized template and activation matrices\n",
    "- Visualize the resulting template and activation matrices. Comment.\n",
    "- Sonify the left and right hand tracks. Comment."
   ]
  },
  {
   "cell_type": "code",
   "execution_count": 32,
   "metadata": {},
   "outputs": [],
   "source": [
    "noteEvents = [(3, 1.23), (4, 1.23), (2, 2.19), (4, 2.19), (1, 3.16), (6, 3.16), \n",
    "              (0, 4.12), (7, 4.12), (1, 4.42), (6, 4.42), (2, 4.72), (5, 4.72),\n",
    "              (3, 5.05), (4, 5.05), (2, 6.02), (4, 6.02), (1, 7.05), (6, 7.05),\n",
    "              (0, 8.11), (7, 8.11)]"
   ]
  },
  {
   "cell_type": "code",
   "execution_count": null,
   "metadata": {},
   "outputs": [],
   "source": []
  },
  {
   "cell_type": "markdown",
   "metadata": {},
   "source": [
    "### Onset Models (10 points)"
   ]
  },
  {
   "cell_type": "markdown",
   "metadata": {},
   "source": [
    "In this section you will add onset models to your system.  You should do the following:\n",
    "- Create a function that initializes a note & onset template matrix given a set of midi note numbers.  The note templates should have random positive values around harmonic frequencies, and zeros elsewhere.  The onset templates should have all random positive values.\n",
    "- Create a function that initializes a note & onset activation matrix given the note event information.  The note activations should have random positive values for the interval (t_onset, t_onset+1.0), and zeros elsewhere.  The onset activations should have random positive values for the interval (t_onset - margin, t_onset + margin), and zeros elsewhere.\n",
    "- Visualize the initialized template & activation matrices.\n",
    "- Run NMF with the initialized template and activation matrices.\n",
    "- Visualize the resulting template and activation matrices. Comment.\n",
    "- Sonify the left and right hand tracks. Comment."
   ]
  },
  {
   "cell_type": "code",
   "execution_count": null,
   "metadata": {},
   "outputs": [],
   "source": []
  }
 ],
 "metadata": {
  "kernelspec": {
   "display_name": "E207_Spr24",
   "language": "python",
   "name": "e207_spr24"
  },
  "language_info": {
   "codemirror_mode": {
    "name": "ipython",
    "version": 3
   },
   "file_extension": ".py",
   "mimetype": "text/x-python",
   "name": "python",
   "nbconvert_exporter": "python",
   "pygments_lexer": "ipython3",
   "version": "3.11.7"
  }
 },
 "nbformat": 4,
 "nbformat_minor": 4
}
