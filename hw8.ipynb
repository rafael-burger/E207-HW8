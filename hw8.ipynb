{
 "cells": [
  {
   "cell_type": "markdown",
   "metadata": {},
   "source": [
    "# Audio Decomposition"
   ]
  },
  {
   "cell_type": "markdown",
   "metadata": {},
   "source": [
    "In this homework we will explore NMF-based audio decomposition.\n",
    "\n",
    "We are getting close to the final project, so I will be providing very little hand holding in this assignment.  I will simply give you broad tasks to accomplish without providing decomposed functions or answers.  It is up to you to verify that your code is working!\n",
    "\n",
    "Please note that part of your grade will be on the readability and decomposition of your code, so make sure your code is clean and organized.  Part of your grade will also be on the clarity of your writing.  You should explain your thought process clearly and support your claims with appropriate plots."
   ]
  },
  {
   "cell_type": "markdown",
   "metadata": {},
   "source": [
    "Team member #1: __________\n",
    "\n",
    "Hours spent on hw: ____________\n",
    "\n",
    "Team member #2: ___________\n",
    "\n",
    "Hours spent on hw: ____________"
   ]
  },
  {
   "cell_type": "code",
   "execution_count": 1,
   "metadata": {},
   "outputs": [],
   "source": [
    "%matplotlib inline"
   ]
  },
  {
   "cell_type": "code",
   "execution_count": 2,
   "metadata": {},
   "outputs": [],
   "source": [
    "import numpy as np\n",
    "import librosa as lb\n",
    "import matplotlib.pyplot as plt\n",
    "import IPython.display as ipd\n",
    "import scipy.io as sio"
   ]
  },
  {
   "cell_type": "markdown",
   "metadata": {},
   "source": [
    "### NMF (30 points)"
   ]
  },
  {
   "cell_type": "markdown",
   "metadata": {},
   "source": [
    "In this section you will implement the NMF algorithm.  You should do the following:\n",
    "- Calculate the STFT of the given audio file ('xylophone.mp3').\n",
    "- Implement the NMF algorithm as described in class.\n",
    "- Describe a suitable stopping criterion and justify your selection with logic and/or experimental plots.\n",
    "- Run NMF on the magnitude STFT\n",
    "- Visualize the estimated template and activation matrices.  Comment on the results."
   ]
  },
  {
   "cell_type": "code",
   "execution_count": null,
   "metadata": {},
   "outputs": [],
   "source": []
  },
  {
   "cell_type": "markdown",
   "metadata": {},
   "source": [
    "### Reconstruction (15 points)"
   ]
  },
  {
   "cell_type": "markdown",
   "metadata": {},
   "source": [
    "In this section you will reconstruct the audio for the estimated left and right hand tracks.  You should do the following:\n",
    "- Implement the simple approach described in class\n",
    "- Implement the soft masking approach described in class\n",
    "- Listen to the results of both reconstruction methods.  Comment."
   ]
  },
  {
   "cell_type": "code",
   "execution_count": null,
   "metadata": {},
   "outputs": [],
   "source": []
  },
  {
   "cell_type": "markdown",
   "metadata": {},
   "source": [
    "### Initializing templates (15 points)"
   ]
  },
  {
   "cell_type": "markdown",
   "metadata": {},
   "source": [
    "In this section you will initialize the templates to incorporate prior knowledge.  You should do the following:\n",
    "- Create a function that initializes a template matrix given a set of midi note numbers.  The templates should have random positive values around harmonic frequencies (+/- half a semitone), and zeros elsewhere.\n",
    "- Visualize the initialized template matrix using the notes {C6, D6, E6, F6, G6, A6, B6, C7}.\n",
    "- Run NMF with the initialized template matrix\n",
    "- Visualize the resulting template and activation matrices.  Comment.\n",
    "- Sonify the left and right hand tracks.  Comment."
   ]
  },
  {
   "cell_type": "code",
   "execution_count": null,
   "metadata": {},
   "outputs": [],
   "source": []
  },
  {
   "cell_type": "markdown",
   "metadata": {},
   "source": [
    "### Initializing Activations (10 points)"
   ]
  },
  {
   "cell_type": "markdown",
   "metadata": {},
   "source": [
    "In this section you will initialize the activations to incorporate prior knowledge.  You may assume that you have already aligned the score and the audio, and have predicted the following note events at the following times.  You should do the following:\n",
    "- Create a function that initializes an activation matrix given the note event information.  The entries should have random positive values around the note onsets, and zeros elsewhere.  You may assume a fixed note duration of 1 sec.\n",
    "- Visualize the initialized activation matrix\n",
    "- Run NMF with the initialized template and activation matrices\n",
    "- Visualize the resulting template and activation matrices. Comment.\n",
    "- Sonify the left and right hand tracks. Comment."
   ]
  },
  {
   "cell_type": "code",
   "execution_count": 32,
   "metadata": {},
   "outputs": [],
   "source": [
    "noteEvents = [(3, 1.23), (4, 1.23), (2, 2.19), (4, 2.19), (1, 3.16), (6, 3.16), \n",
    "              (0, 4.12), (7, 4.12), (1, 4.42), (6, 4.42), (2, 4.72), (5, 4.72),\n",
    "              (3, 5.05), (4, 5.05), (2, 6.02), (4, 6.02), (1, 7.05), (6, 7.05),\n",
    "              (0, 8.11), (7, 8.11)]"
   ]
  },
  {
   "cell_type": "code",
   "execution_count": null,
   "metadata": {},
   "outputs": [],
   "source": []
  },
  {
   "cell_type": "markdown",
   "metadata": {},
   "source": [
    "### Onset Models (10 points)"
   ]
  },
  {
   "cell_type": "markdown",
   "metadata": {},
   "source": [
    "In this section you will add onset models to your system.  You should do the following:\n",
    "- Create a function that initializes a note & onset template matrix given a set of midi note numbers.  The note templates should have random positive values around harmonic frequencies, and zeros elsewhere.  The onset templates should have all random positive values.\n",
    "- Create a function that initializes a note & onset activation matrix given the note event information.  The note activations should have random positive values for the interval (t_onset, t_onset+1.0), and zeros elsewhere.  The onset activations should have random positive values for the interval (t_onset - margin, t_onset + margin), and zeros elsewhere.\n",
    "- Visualize the initialized template & activation matrices.\n",
    "- Run NMF with the initialized template and activation matrices.\n",
    "- Visualize the resulting template and activation matrices. Comment.\n",
    "- Sonify the left and right hand tracks. Comment."
   ]
  },
  {
   "cell_type": "code",
   "execution_count": null,
   "metadata": {},
   "outputs": [],
   "source": []
  }
 ],
 "metadata": {
  "kernelspec": {
   "display_name": "E207_Spr24",
   "language": "python",
   "name": "e207_spr24"
  },
  "language_info": {
   "codemirror_mode": {
    "name": "ipython",
    "version": 3
   },
   "file_extension": ".py",
   "mimetype": "text/x-python",
   "name": "python",
   "nbconvert_exporter": "python",
   "pygments_lexer": "ipython3",
   "version": "3.11.7"
  }
 },
 "nbformat": 4,
 "nbformat_minor": 4
}
